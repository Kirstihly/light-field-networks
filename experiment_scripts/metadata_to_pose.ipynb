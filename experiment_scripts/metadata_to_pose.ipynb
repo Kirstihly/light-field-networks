{
 "cells": [
  {
   "cell_type": "code",
   "execution_count": 1,
   "id": "7d8e5377",
   "metadata": {},
   "outputs": [],
   "source": [
    "import glob, json, os\n",
    "import numpy as np"
   ]
  },
  {
   "cell_type": "code",
   "execution_count": 2,
   "id": "920fbb49",
   "metadata": {},
   "outputs": [],
   "source": [
    "def readJson(path):\n",
    "    f = open(path)\n",
    "    data = json.load(f)\n",
    "    f.close()\n",
    "    return data\n",
    "\n",
    "# (q0,q1,q2,q3) = (W, X, Y, Z)\n",
    "def quaternion_to_rotation_matrix(Q):\n",
    "    \"\"\"\n",
    "    Covert a quaternion into a full three-dimensional rotation matrix.\n",
    " \n",
    "    Input\n",
    "    :param Q: A 4 element array representing the quaternion (q0,q1,q2,q3) \n",
    " \n",
    "    Output\n",
    "    :return: A 3x3 element matrix representing the full 3D rotation matrix. \n",
    "             This rotation matrix converts a point in the local reference \n",
    "             frame to a point in the global reference frame.\n",
    "    \"\"\"\n",
    "    # Extract the values from Q\n",
    "    q0 = Q[0]\n",
    "    q1 = Q[1]\n",
    "    q2 = Q[2]\n",
    "    q3 = Q[3]\n",
    "     \n",
    "    # First row of the rotation matrix\n",
    "    r00 = 2 * (q0 * q0 + q1 * q1) - 1\n",
    "    r01 = 2 * (q1 * q2 - q0 * q3)\n",
    "    r02 = 2 * (q1 * q3 + q0 * q2)\n",
    "     \n",
    "    # Second row of the rotation matrix\n",
    "    r10 = 2 * (q1 * q2 + q0 * q3)\n",
    "    r11 = 2 * (q0 * q0 + q2 * q2) - 1\n",
    "    r12 = 2 * (q2 * q3 - q0 * q1)\n",
    "     \n",
    "    # Third row of the rotation matrix\n",
    "    r20 = 2 * (q1 * q3 - q0 * q2)\n",
    "    r21 = 2 * (q2 * q3 + q0 * q1)\n",
    "    r22 = 2 * (q0 * q0 + q3 * q3) - 1\n",
    "     \n",
    "    # 3x3 rotation matrix\n",
    "    rot_matrix = np.array([[r00, r01, r02],\n",
    "                           [r10, r11, r12],\n",
    "                           [r20, r21, r22]])\n",
    "                            \n",
    "    return rot_matrix\n",
    "\n",
    "def convertTransformMatrix(translation, quaternion):\n",
    "    \n",
    "    transform = np.identity(4)\n",
    "\n",
    "    # T: (X, Y, Z)\n",
    "    translation = np.array(translation)\n",
    "    transform[0:3, 3] = translation\n",
    "    \n",
    "    # Q: (W, X, Y, Z)\n",
    "    rotation = quaternion_to_rotation_matrix(quaternion)\n",
    "    transform[0:3, 0:3] = rotation\n",
    "\n",
    "    return transform"
   ]
  },
  {
   "cell_type": "code",
   "execution_count": 3,
   "id": "5ec73326",
   "metadata": {},
   "outputs": [],
   "source": [
    "# Parse 49195 complex brdf objects\n",
    "brdf_paths = glob.glob('/home/leyinghu/Documents/data/complex_brdf/specular/*/metadata.json')\n",
    "brdf_paths.sort()\n",
    "assert len(brdf_paths) == 49195"
   ]
  },
  {
   "cell_type": "code",
   "execution_count": 4,
   "id": "6c54874b",
   "metadata": {},
   "outputs": [],
   "source": [
    "for brdf_path in brdf_paths:\n",
    "    \n",
    "    brdf_dir = os.path.dirname(brdf_path)\n",
    "    pose_dir = os.path.join(brdf_dir, 'pose')\n",
    "\n",
    "    if not os.path.isdir(pose_dir):\n",
    "        os.mkdir(pose_dir)\n",
    "        \n",
    "    brdf_data = readJson(brdf_path)\n",
    "    brdf_images = glob.glob(os.path.join(brdf_dir, 'rgb', '*.png'))\n",
    "    assert brdf_data['metadata']['num_frames'] == len(brdf_images)\n",
    "\n",
    "    translations = brdf_data['camera']['positions']\n",
    "    quaternions = brdf_data['camera']['quaternions']\n",
    "    \n",
    "    for i in range(len(translations)):\n",
    "        \n",
    "        pose = convertTransformMatrix(translations[i], quaternions[i])\n",
    "        pose_path = os.path.join(pose_dir, f\"{i:06d}.txt\")\n",
    "        np.savetxt(pose_path, pose)"
   ]
  },
  {
   "cell_type": "code",
   "execution_count": null,
   "id": "198deef9",
   "metadata": {},
   "outputs": [],
   "source": []
  }
 ],
 "metadata": {
  "kernelspec": {
   "display_name": "Python 3 (ipykernel)",
   "language": "python",
   "name": "python3"
  },
  "language_info": {
   "codemirror_mode": {
    "name": "ipython",
    "version": 3
   },
   "file_extension": ".py",
   "mimetype": "text/x-python",
   "name": "python",
   "nbconvert_exporter": "python",
   "pygments_lexer": "ipython3",
   "version": "3.8.10"
  }
 },
 "nbformat": 4,
 "nbformat_minor": 5
}
